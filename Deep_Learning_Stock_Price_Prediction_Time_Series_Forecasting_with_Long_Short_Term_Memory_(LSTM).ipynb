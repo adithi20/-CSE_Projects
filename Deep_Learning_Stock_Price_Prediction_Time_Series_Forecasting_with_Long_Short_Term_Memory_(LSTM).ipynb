{
  "nbformat": 4,
  "nbformat_minor": 0,
  "metadata": {
    "colab": {
      "provenance": [],
      "authorship_tag": "ABX9TyMx68enuhE83N3ofA5BW996",
      "include_colab_link": true
    },
    "kernelspec": {
      "name": "python3",
      "display_name": "Python 3"
    },
    "language_info": {
      "name": "python"
    }
  },
  "cells": [
    {
      "cell_type": "markdown",
      "metadata": {
        "id": "view-in-github",
        "colab_type": "text"
      },
      "source": [
        "<a href=\"https://colab.research.google.com/github/adithi20/-CSE_Projects/blob/main/Deep_Learning_Stock_Price_Prediction_Time_Series_Forecasting_with_Long_Short_Term_Memory_(LSTM).ipynb\" target=\"_parent\"><img src=\"https://colab.research.google.com/assets/colab-badge.svg\" alt=\"Open In Colab\"/></a>"
      ]
    },
    {
      "cell_type": "code",
      "source": [
        "!pip install yfinance pandas numpy matplotlib scikit-learn tensorflow\n",
        "import yfinance as yf\n",
        "import pandas as pd\n",
        "import numpy as np\n",
        "import matplotlib.pyplot as plt\n",
        "from sklearn.preprocessing import MinMaxScaler\n",
        "from sklearn.metrics import mean_squared_error\n",
        "from tensorflow.keras.models import Sequential\n",
        "from tensorflow.keras.layers import LSTM, Dense\n"
      ],
      "metadata": {
        "colab": {
          "base_uri": "https://localhost:8080/"
        },
        "id": "RAIGb7xrKLAC",
        "outputId": "38c44826-c7fe-4fb9-85c6-befd97fefb0d"
      },
      "execution_count": 20,
      "outputs": [
        {
          "output_type": "stream",
          "name": "stdout",
          "text": [
            "Requirement already satisfied: yfinance in /usr/local/lib/python3.10/dist-packages (0.2.36)\n",
            "Requirement already satisfied: pandas in /usr/local/lib/python3.10/dist-packages (1.5.3)\n",
            "Requirement already satisfied: numpy in /usr/local/lib/python3.10/dist-packages (1.23.5)\n",
            "Requirement already satisfied: matplotlib in /usr/local/lib/python3.10/dist-packages (3.7.1)\n",
            "Requirement already satisfied: scikit-learn in /usr/local/lib/python3.10/dist-packages (1.2.2)\n",
            "Requirement already satisfied: tensorflow in /usr/local/lib/python3.10/dist-packages (2.15.0)\n",
            "Requirement already satisfied: requests>=2.31 in /usr/local/lib/python3.10/dist-packages (from yfinance) (2.31.0)\n",
            "Requirement already satisfied: multitasking>=0.0.7 in /usr/local/lib/python3.10/dist-packages (from yfinance) (0.0.11)\n",
            "Requirement already satisfied: lxml>=4.9.1 in /usr/local/lib/python3.10/dist-packages (from yfinance) (4.9.4)\n",
            "Requirement already satisfied: appdirs>=1.4.4 in /usr/local/lib/python3.10/dist-packages (from yfinance) (1.4.4)\n",
            "Requirement already satisfied: pytz>=2022.5 in /usr/local/lib/python3.10/dist-packages (from yfinance) (2023.4)\n",
            "Requirement already satisfied: frozendict>=2.3.4 in /usr/local/lib/python3.10/dist-packages (from yfinance) (2.4.0)\n",
            "Requirement already satisfied: peewee>=3.16.2 in /usr/local/lib/python3.10/dist-packages (from yfinance) (3.17.0)\n",
            "Requirement already satisfied: beautifulsoup4>=4.11.1 in /usr/local/lib/python3.10/dist-packages (from yfinance) (4.12.3)\n",
            "Requirement already satisfied: html5lib>=1.1 in /usr/local/lib/python3.10/dist-packages (from yfinance) (1.1)\n",
            "Requirement already satisfied: python-dateutil>=2.8.1 in /usr/local/lib/python3.10/dist-packages (from pandas) (2.8.2)\n",
            "Requirement already satisfied: contourpy>=1.0.1 in /usr/local/lib/python3.10/dist-packages (from matplotlib) (1.2.0)\n",
            "Requirement already satisfied: cycler>=0.10 in /usr/local/lib/python3.10/dist-packages (from matplotlib) (0.12.1)\n",
            "Requirement already satisfied: fonttools>=4.22.0 in /usr/local/lib/python3.10/dist-packages (from matplotlib) (4.47.2)\n",
            "Requirement already satisfied: kiwisolver>=1.0.1 in /usr/local/lib/python3.10/dist-packages (from matplotlib) (1.4.5)\n",
            "Requirement already satisfied: packaging>=20.0 in /usr/local/lib/python3.10/dist-packages (from matplotlib) (23.2)\n",
            "Requirement already satisfied: pillow>=6.2.0 in /usr/local/lib/python3.10/dist-packages (from matplotlib) (9.4.0)\n",
            "Requirement already satisfied: pyparsing>=2.3.1 in /usr/local/lib/python3.10/dist-packages (from matplotlib) (3.1.1)\n",
            "Requirement already satisfied: scipy>=1.3.2 in /usr/local/lib/python3.10/dist-packages (from scikit-learn) (1.11.4)\n",
            "Requirement already satisfied: joblib>=1.1.1 in /usr/local/lib/python3.10/dist-packages (from scikit-learn) (1.3.2)\n",
            "Requirement already satisfied: threadpoolctl>=2.0.0 in /usr/local/lib/python3.10/dist-packages (from scikit-learn) (3.2.0)\n",
            "Requirement already satisfied: absl-py>=1.0.0 in /usr/local/lib/python3.10/dist-packages (from tensorflow) (1.4.0)\n",
            "Requirement already satisfied: astunparse>=1.6.0 in /usr/local/lib/python3.10/dist-packages (from tensorflow) (1.6.3)\n",
            "Requirement already satisfied: flatbuffers>=23.5.26 in /usr/local/lib/python3.10/dist-packages (from tensorflow) (23.5.26)\n",
            "Requirement already satisfied: gast!=0.5.0,!=0.5.1,!=0.5.2,>=0.2.1 in /usr/local/lib/python3.10/dist-packages (from tensorflow) (0.5.4)\n",
            "Requirement already satisfied: google-pasta>=0.1.1 in /usr/local/lib/python3.10/dist-packages (from tensorflow) (0.2.0)\n",
            "Requirement already satisfied: h5py>=2.9.0 in /usr/local/lib/python3.10/dist-packages (from tensorflow) (3.9.0)\n",
            "Requirement already satisfied: libclang>=13.0.0 in /usr/local/lib/python3.10/dist-packages (from tensorflow) (16.0.6)\n",
            "Requirement already satisfied: ml-dtypes~=0.2.0 in /usr/local/lib/python3.10/dist-packages (from tensorflow) (0.2.0)\n",
            "Requirement already satisfied: opt-einsum>=2.3.2 in /usr/local/lib/python3.10/dist-packages (from tensorflow) (3.3.0)\n",
            "Requirement already satisfied: protobuf!=4.21.0,!=4.21.1,!=4.21.2,!=4.21.3,!=4.21.4,!=4.21.5,<5.0.0dev,>=3.20.3 in /usr/local/lib/python3.10/dist-packages (from tensorflow) (3.20.3)\n",
            "Requirement already satisfied: setuptools in /usr/local/lib/python3.10/dist-packages (from tensorflow) (67.7.2)\n",
            "Requirement already satisfied: six>=1.12.0 in /usr/local/lib/python3.10/dist-packages (from tensorflow) (1.16.0)\n",
            "Requirement already satisfied: termcolor>=1.1.0 in /usr/local/lib/python3.10/dist-packages (from tensorflow) (2.4.0)\n",
            "Requirement already satisfied: typing-extensions>=3.6.6 in /usr/local/lib/python3.10/dist-packages (from tensorflow) (4.5.0)\n",
            "Requirement already satisfied: wrapt<1.15,>=1.11.0 in /usr/local/lib/python3.10/dist-packages (from tensorflow) (1.14.1)\n",
            "Requirement already satisfied: tensorflow-io-gcs-filesystem>=0.23.1 in /usr/local/lib/python3.10/dist-packages (from tensorflow) (0.35.0)\n",
            "Requirement already satisfied: grpcio<2.0,>=1.24.3 in /usr/local/lib/python3.10/dist-packages (from tensorflow) (1.60.0)\n",
            "Requirement already satisfied: tensorboard<2.16,>=2.15 in /usr/local/lib/python3.10/dist-packages (from tensorflow) (2.15.1)\n",
            "Requirement already satisfied: tensorflow-estimator<2.16,>=2.15.0 in /usr/local/lib/python3.10/dist-packages (from tensorflow) (2.15.0)\n",
            "Requirement already satisfied: keras<2.16,>=2.15.0 in /usr/local/lib/python3.10/dist-packages (from tensorflow) (2.15.0)\n",
            "Requirement already satisfied: wheel<1.0,>=0.23.0 in /usr/local/lib/python3.10/dist-packages (from astunparse>=1.6.0->tensorflow) (0.42.0)\n",
            "Requirement already satisfied: soupsieve>1.2 in /usr/local/lib/python3.10/dist-packages (from beautifulsoup4>=4.11.1->yfinance) (2.5)\n",
            "Requirement already satisfied: webencodings in /usr/local/lib/python3.10/dist-packages (from html5lib>=1.1->yfinance) (0.5.1)\n",
            "Requirement already satisfied: charset-normalizer<4,>=2 in /usr/local/lib/python3.10/dist-packages (from requests>=2.31->yfinance) (3.3.2)\n",
            "Requirement already satisfied: idna<4,>=2.5 in /usr/local/lib/python3.10/dist-packages (from requests>=2.31->yfinance) (3.6)\n",
            "Requirement already satisfied: urllib3<3,>=1.21.1 in /usr/local/lib/python3.10/dist-packages (from requests>=2.31->yfinance) (2.0.7)\n",
            "Requirement already satisfied: certifi>=2017.4.17 in /usr/local/lib/python3.10/dist-packages (from requests>=2.31->yfinance) (2023.11.17)\n",
            "Requirement already satisfied: google-auth<3,>=1.6.3 in /usr/local/lib/python3.10/dist-packages (from tensorboard<2.16,>=2.15->tensorflow) (2.17.3)\n",
            "Requirement already satisfied: google-auth-oauthlib<2,>=0.5 in /usr/local/lib/python3.10/dist-packages (from tensorboard<2.16,>=2.15->tensorflow) (1.2.0)\n",
            "Requirement already satisfied: markdown>=2.6.8 in /usr/local/lib/python3.10/dist-packages (from tensorboard<2.16,>=2.15->tensorflow) (3.5.2)\n",
            "Requirement already satisfied: tensorboard-data-server<0.8.0,>=0.7.0 in /usr/local/lib/python3.10/dist-packages (from tensorboard<2.16,>=2.15->tensorflow) (0.7.2)\n",
            "Requirement already satisfied: werkzeug>=1.0.1 in /usr/local/lib/python3.10/dist-packages (from tensorboard<2.16,>=2.15->tensorflow) (3.0.1)\n",
            "Requirement already satisfied: cachetools<6.0,>=2.0.0 in /usr/local/lib/python3.10/dist-packages (from google-auth<3,>=1.6.3->tensorboard<2.16,>=2.15->tensorflow) (5.3.2)\n",
            "Requirement already satisfied: pyasn1-modules>=0.2.1 in /usr/local/lib/python3.10/dist-packages (from google-auth<3,>=1.6.3->tensorboard<2.16,>=2.15->tensorflow) (0.3.0)\n",
            "Requirement already satisfied: rsa<5,>=3.1.4 in /usr/local/lib/python3.10/dist-packages (from google-auth<3,>=1.6.3->tensorboard<2.16,>=2.15->tensorflow) (4.9)\n",
            "Requirement already satisfied: requests-oauthlib>=0.7.0 in /usr/local/lib/python3.10/dist-packages (from google-auth-oauthlib<2,>=0.5->tensorboard<2.16,>=2.15->tensorflow) (1.3.1)\n",
            "Requirement already satisfied: MarkupSafe>=2.1.1 in /usr/local/lib/python3.10/dist-packages (from werkzeug>=1.0.1->tensorboard<2.16,>=2.15->tensorflow) (2.1.4)\n",
            "Requirement already satisfied: pyasn1<0.6.0,>=0.4.6 in /usr/local/lib/python3.10/dist-packages (from pyasn1-modules>=0.2.1->google-auth<3,>=1.6.3->tensorboard<2.16,>=2.15->tensorflow) (0.5.1)\n",
            "Requirement already satisfied: oauthlib>=3.0.0 in /usr/local/lib/python3.10/dist-packages (from requests-oauthlib>=0.7.0->google-auth-oauthlib<2,>=0.5->tensorboard<2.16,>=2.15->tensorflow) (3.2.2)\n"
          ]
        }
      ]
    },
    {
      "cell_type": "code",
      "source": [
        "# Define stock symbol and timeframe\n",
        "stock_symbol = 'AAPL'\n",
        "start_date = '2010-01-01'\n",
        "end_date = '2022-01-01'\n",
        "\n",
        "# Download historical stock data\n",
        "stock_data = yf.download(stock_symbol, start=start_date, end=end_date)\n",
        "\n",
        "# Select the 'Close' prices for simplicity\n",
        "stock_data = stock_data[['Close']]\n"
      ],
      "metadata": {
        "colab": {
          "base_uri": "https://localhost:8080/"
        },
        "id": "NTNRrmvDKLDe",
        "outputId": "5858ea51-376d-45bd-ac31-97ad2d2595c8"
      },
      "execution_count": 21,
      "outputs": [
        {
          "output_type": "stream",
          "name": "stderr",
          "text": [
            "\r[*********************100%%**********************]  1 of 1 completed\n"
          ]
        }
      ]
    },
    {
      "cell_type": "code",
      "source": [
        "# Handle missing data\n",
        "stock_data = stock_data.dropna()\n",
        "\n",
        "# Scale the data\n",
        "scaler = MinMaxScaler()\n",
        "scaled_data = scaler.fit_transform(stock_data.values.reshape(-1, 1))\n",
        "\n",
        "# Create time series sequences\n",
        "def create_sequences(data, seq_length):\n",
        "    sequences = []\n",
        "    for i in range(len(data) - seq_length):\n",
        "        seq = data[i:i+seq_length]\n",
        "        sequences.append(seq)\n",
        "    return np.array(sequences)\n",
        "\n",
        "sequence_length = 10\n",
        "X = create_sequences(scaled_data, sequence_length)\n"
      ],
      "metadata": {
        "id": "6JumNjfDNl0W"
      },
      "execution_count": 22,
      "outputs": []
    },
    {
      "cell_type": "code",
      "source": [
        "model = Sequential()\n",
        "model.add(LSTM(units=50, return_sequences=True, input_shape=(X.shape[1], 1)))\n",
        "model.add(LSTM(units=50, return_sequences=True))\n",
        "model.add(LSTM(units=50))\n",
        "model.add(Dense(units=1))\n",
        "model.compile(optimizer='adam', loss='mean_squared_error')\n"
      ],
      "metadata": {
        "id": "ikoQya3wNl9F"
      },
      "execution_count": 23,
      "outputs": []
    },
    {
      "cell_type": "code",
      "source": [
        "# Assuming 'target' is the column you want to predict (e.g., next day's closing price)\n",
        "y = scaled_data[sequence_length:]\n",
        "\n",
        "# Model fitting\n",
        "model.fit(X, y, epochs=50, batch_size=32)\n"
      ],
      "metadata": {
        "colab": {
          "base_uri": "https://localhost:8080/"
        },
        "id": "52UBxbeINmAN",
        "outputId": "d6f1d837-5998-4da6-f1cb-f724fd50ba8a"
      },
      "execution_count": 24,
      "outputs": [
        {
          "output_type": "stream",
          "name": "stdout",
          "text": [
            "Epoch 1/50\n",
            "95/95 [==============================] - 5s 15ms/step - loss: 0.0069\n",
            "Epoch 2/50\n",
            "95/95 [==============================] - 2s 17ms/step - loss: 2.1664e-04\n",
            "Epoch 3/50\n",
            "95/95 [==============================] - 1s 15ms/step - loss: 2.0010e-04\n",
            "Epoch 4/50\n",
            "95/95 [==============================] - 2s 18ms/step - loss: 2.3138e-04\n",
            "Epoch 5/50\n",
            "95/95 [==============================] - 1s 14ms/step - loss: 2.0627e-04\n",
            "Epoch 6/50\n",
            "95/95 [==============================] - 2s 18ms/step - loss: 2.0437e-04\n",
            "Epoch 7/50\n",
            "95/95 [==============================] - 2s 19ms/step - loss: 2.0903e-04\n",
            "Epoch 8/50\n",
            "95/95 [==============================] - 2s 21ms/step - loss: 2.3997e-04\n",
            "Epoch 9/50\n",
            "95/95 [==============================] - 1s 12ms/step - loss: 2.1213e-04\n",
            "Epoch 10/50\n",
            "95/95 [==============================] - 1s 9ms/step - loss: 2.1645e-04\n",
            "Epoch 11/50\n",
            "95/95 [==============================] - 1s 9ms/step - loss: 4.0436e-04\n",
            "Epoch 12/50\n",
            "95/95 [==============================] - 1s 10ms/step - loss: 2.6733e-04\n",
            "Epoch 13/50\n",
            "95/95 [==============================] - 1s 10ms/step - loss: 2.1004e-04\n",
            "Epoch 14/50\n",
            "95/95 [==============================] - 1s 10ms/step - loss: 1.9012e-04\n",
            "Epoch 15/50\n",
            "95/95 [==============================] - 1s 10ms/step - loss: 2.2554e-04\n",
            "Epoch 16/50\n",
            "95/95 [==============================] - 1s 9ms/step - loss: 2.6729e-04\n",
            "Epoch 17/50\n",
            "95/95 [==============================] - 1s 9ms/step - loss: 1.8451e-04\n",
            "Epoch 18/50\n",
            "95/95 [==============================] - 1s 10ms/step - loss: 1.7665e-04\n",
            "Epoch 19/50\n",
            "95/95 [==============================] - 1s 13ms/step - loss: 1.7154e-04\n",
            "Epoch 20/50\n",
            "95/95 [==============================] - 1s 10ms/step - loss: 1.6184e-04\n",
            "Epoch 21/50\n",
            "95/95 [==============================] - 1s 10ms/step - loss: 1.8697e-04\n",
            "Epoch 22/50\n",
            "95/95 [==============================] - 1s 10ms/step - loss: 1.9751e-04\n",
            "Epoch 23/50\n",
            "95/95 [==============================] - 1s 10ms/step - loss: 1.7295e-04\n",
            "Epoch 24/50\n",
            "95/95 [==============================] - 1s 10ms/step - loss: 2.0831e-04\n",
            "Epoch 25/50\n",
            "95/95 [==============================] - 1s 10ms/step - loss: 1.9524e-04\n",
            "Epoch 26/50\n",
            "95/95 [==============================] - 1s 9ms/step - loss: 1.6451e-04\n",
            "Epoch 27/50\n",
            "95/95 [==============================] - 1s 10ms/step - loss: 1.5547e-04\n",
            "Epoch 28/50\n",
            "95/95 [==============================] - 1s 10ms/step - loss: 1.6945e-04\n",
            "Epoch 29/50\n",
            "95/95 [==============================] - 1s 9ms/step - loss: 1.4853e-04\n",
            "Epoch 30/50\n",
            "95/95 [==============================] - 1s 11ms/step - loss: 1.4194e-04\n",
            "Epoch 31/50\n",
            "95/95 [==============================] - 1s 12ms/step - loss: 1.3272e-04\n",
            "Epoch 32/50\n",
            "95/95 [==============================] - 1s 10ms/step - loss: 1.5074e-04\n",
            "Epoch 33/50\n",
            "95/95 [==============================] - 1s 10ms/step - loss: 2.1367e-04\n",
            "Epoch 34/50\n",
            "95/95 [==============================] - 1s 9ms/step - loss: 1.4364e-04\n",
            "Epoch 35/50\n",
            "95/95 [==============================] - 1s 9ms/step - loss: 1.4886e-04\n",
            "Epoch 36/50\n",
            "95/95 [==============================] - 1s 10ms/step - loss: 1.3138e-04\n",
            "Epoch 37/50\n",
            "95/95 [==============================] - 1s 9ms/step - loss: 1.0238e-04\n",
            "Epoch 38/50\n",
            "95/95 [==============================] - 1s 9ms/step - loss: 1.4273e-04\n",
            "Epoch 39/50\n",
            "95/95 [==============================] - 1s 10ms/step - loss: 1.1748e-04\n",
            "Epoch 40/50\n",
            "95/95 [==============================] - 1s 9ms/step - loss: 9.4542e-05\n",
            "Epoch 41/50\n",
            "95/95 [==============================] - 1s 10ms/step - loss: 9.6804e-05\n",
            "Epoch 42/50\n",
            "95/95 [==============================] - 1s 13ms/step - loss: 1.3353e-04\n",
            "Epoch 43/50\n",
            "95/95 [==============================] - 1s 10ms/step - loss: 1.1803e-04\n",
            "Epoch 44/50\n",
            "95/95 [==============================] - 1s 10ms/step - loss: 9.5623e-05\n",
            "Epoch 45/50\n",
            "95/95 [==============================] - 1s 10ms/step - loss: 7.9234e-05\n",
            "Epoch 46/50\n",
            "95/95 [==============================] - 1s 10ms/step - loss: 9.4787e-05\n",
            "Epoch 47/50\n",
            "95/95 [==============================] - 1s 10ms/step - loss: 9.5331e-05\n",
            "Epoch 48/50\n",
            "95/95 [==============================] - 1s 9ms/step - loss: 1.0294e-04\n",
            "Epoch 49/50\n",
            "95/95 [==============================] - 1s 10ms/step - loss: 7.9125e-05\n",
            "Epoch 50/50\n",
            "95/95 [==============================] - 1s 10ms/step - loss: 8.1391e-05\n"
          ]
        },
        {
          "output_type": "execute_result",
          "data": {
            "text/plain": [
              "<keras.src.callbacks.History at 0x7ce4d7d49780>"
            ]
          },
          "metadata": {},
          "execution_count": 24
        }
      ]
    },
    {
      "cell_type": "code",
      "source": [
        "# Prepare test data\n",
        "test_data = yf.download(stock_symbol, start='2022-01-02', end='2022-02-01')[['Close']]\n",
        "scaled_test_data = scaler.transform(test_data.values.reshape(-1, 1))\n",
        "\n",
        "# Create sequences for test data\n",
        "X_test = create_sequences(scaled_test_data, sequence_length)\n",
        "\n",
        "# Make predictions\n",
        "predictions = model.predict(X_test)\n",
        "\n",
        "# Inverse transform to get actual values\n",
        "predicted_prices = scaler.inverse_transform(predictions)\n"
      ],
      "metadata": {
        "colab": {
          "base_uri": "https://localhost:8080/"
        },
        "id": "LQIIYAL1NmDo",
        "outputId": "622935eb-b04f-47e2-d550-370c08c4f740"
      },
      "execution_count": 25,
      "outputs": [
        {
          "output_type": "stream",
          "name": "stderr",
          "text": [
            "\r[*********************100%%**********************]  1 of 1 completed\n"
          ]
        },
        {
          "output_type": "stream",
          "name": "stdout",
          "text": [
            "1/1 [==============================] - 1s 713ms/step\n"
          ]
        }
      ]
    },
    {
      "cell_type": "code",
      "source": [
        "# Evaluate the model's performance\n",
        "mse = mean_squared_error(test_data[sequence_length:], predicted_prices)\n",
        "print(f'Mean Squared Error: {mse}')\n"
      ],
      "metadata": {
        "colab": {
          "base_uri": "https://localhost:8080/"
        },
        "id": "kfTcGtnCN6Pw",
        "outputId": "a76e8e50-65da-4b4c-927b-c6963919d221"
      },
      "execution_count": 26,
      "outputs": [
        {
          "output_type": "stream",
          "name": "stdout",
          "text": [
            "Mean Squared Error: 42.83388882088475\n"
          ]
        }
      ]
    },
    {
      "cell_type": "code",
      "source": [
        "import matplotlib.pyplot as plt\n",
        "\n",
        "# Inverse transform the scaled data to get the original values\n",
        "original_test_data = scaler.inverse_transform(scaled_test_data)\n",
        "original_predictions = scaler.inverse_transform(predictions)\n",
        "\n",
        "# Plotting the results\n",
        "plt.figure(figsize=(10, 6))\n",
        "plt.plot(original_test_data[sequence_length:], label='Actual Stock Prices', color='blue')\n",
        "plt.plot(original_predictions, label='Predicted Stock Prices', color='red')\n",
        "plt.title('Stock Price Prediction')\n",
        "plt.xlabel('Time')\n",
        "plt.ylabel('Stock Price')\n",
        "plt.legend()\n",
        "plt.show()\n"
      ],
      "metadata": {
        "colab": {
          "base_uri": "https://localhost:8080/",
          "height": 564
        },
        "id": "0kdiOWugN6XZ",
        "outputId": "9c1f3149-82c2-4557-9ddd-f518cdac97b7"
      },
      "execution_count": 27,
      "outputs": [
        {
          "output_type": "display_data",
          "data": {
            "text/plain": [
              "<Figure size 1000x600 with 1 Axes>"
            ],
            "image/png": "[encoded data removed]"
          },
          "metadata": {}
        }
      ]
    }
  ]
}